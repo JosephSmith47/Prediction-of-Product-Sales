{
  "nbformat": 4,
  "nbformat_minor": 0,
  "metadata": {
    "colab": {
      "provenance": [],
      "authorship_tag": "ABX9TyPcQpoEWk9EEm21Y6fWUf4+",
      "include_colab_link": true
    },
    "kernelspec": {
      "name": "python3",
      "display_name": "Python 3"
    },
    "language_info": {
      "name": "python"
    }
  },
  "cells": [
    {
      "cell_type": "markdown",
      "metadata": {
        "id": "view-in-github",
        "colab_type": "text"
      },
      "source": [
        "<a href=\"https://colab.research.google.com/github/JosephSmith47/Prediction-of-Product-Sales/blob/main/Prediction_of_Product_Sales.ipynb\" target=\"_parent\"><img src=\"https://colab.research.google.com/assets/colab-badge.svg\" alt=\"Open In Colab\"/></a>"
      ]
    },
    {
      "cell_type": "markdown",
      "source": [
        "# Prediction Of Product Sales"
      ],
      "metadata": {
        "id": "Nm3byFaAoh-R"
      }
    },
    {
      "cell_type": "markdown",
      "source": [
        "- author- Joseph A. Smith Jr.  "
      ],
      "metadata": {
        "id": "tIs0bOhhpAH_"
      }
    },
    {
      "cell_type": "markdown",
      "source": [
        "## project overview"
      ],
      "metadata": {
        "id": "nnqaHwqepP3N"
      }
    },
    {
      "cell_type": "markdown",
      "source": [],
      "metadata": {
        "id": "znLWrh6hpd5j"
      }
    },
    {
      "cell_type": "markdown",
      "source": [
        "## Load and Inspect Data"
      ],
      "metadata": {
        "id": "OxxNu4KwpeT9"
      }
    },
    {
      "cell_type": "code",
      "source": [],
      "metadata": {
        "id": "SD3144lGp9Go"
      },
      "execution_count": null,
      "outputs": []
    },
    {
      "cell_type": "markdown",
      "source": [
        "## Clean Data"
      ],
      "metadata": {
        "id": "NxTPQ8kTpsKu"
      }
    },
    {
      "cell_type": "code",
      "source": [],
      "metadata": {
        "id": "MWtlhMeqp-yu"
      },
      "execution_count": null,
      "outputs": []
    },
    {
      "cell_type": "markdown",
      "source": [
        "## Exploratory Data Analysis"
      ],
      "metadata": {
        "id": "6olth1O0p_Vn"
      }
    },
    {
      "cell_type": "code",
      "source": [],
      "metadata": {
        "id": "18fRAjqEqEXE"
      },
      "execution_count": null,
      "outputs": []
    },
    {
      "cell_type": "markdown",
      "source": [
        "## Feature Inspection"
      ],
      "metadata": {
        "id": "QISbtp1HqJfF"
      }
    },
    {
      "cell_type": "code",
      "source": [],
      "metadata": {
        "id": "gdq3_wePqNkK"
      },
      "execution_count": null,
      "outputs": []
    }
  ]
}